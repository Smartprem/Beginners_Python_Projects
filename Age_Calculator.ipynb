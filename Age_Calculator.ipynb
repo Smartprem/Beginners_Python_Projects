{
  "nbformat": 4,
  "nbformat_minor": 0,
  "metadata": {
    "colab": {
      "provenance": [],
      "authorship_tag": "ABX9TyMOxLE9vNUeyDIDtoC4PeSd"
    },
    "kernelspec": {
      "name": "python3",
      "display_name": "Python 3"
    },
    "language_info": {
      "name": "python"
    }
  },
  "cells": [
    {
      "cell_type": "code",
      "execution_count": 1,
      "metadata": {
        "colab": {
          "base_uri": "https://localhost:8080/"
        },
        "id": "7NmF4yuYq7ia",
        "outputId": "271125e3-dd75-46ca-92c1-95a0f41010b1"
      },
      "outputs": [
        {
          "output_type": "stream",
          "name": "stdout",
          "text": [
            "24\n"
          ]
        }
      ],
      "source": [
        "def ageCalculator(y, m, d):\n",
        "    import datetime\n",
        "    today = datetime.datetime.now().date()\n",
        "    dob = datetime.date(y, m, d)\n",
        "    age = int((today-dob).days / 365.25)\n",
        "    print(age)\n",
        "ageCalculator(1998, 9, 3)"
      ]
    },
    {
      "cell_type": "code",
      "source": [],
      "metadata": {
        "id": "6JFSZWLKrJvM"
      },
      "execution_count": null,
      "outputs": []
    }
  ]
}