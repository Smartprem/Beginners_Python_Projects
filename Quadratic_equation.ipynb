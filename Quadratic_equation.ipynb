{
  "nbformat": 4,
  "nbformat_minor": 0,
  "metadata": {
    "colab": {
      "provenance": [],
      "authorship_tag": "ABX9TyPnjP/tV7FFvnI7nUFCFsiy",
      "include_colab_link": true
    },
    "kernelspec": {
      "name": "python3",
      "display_name": "Python 3"
    },
    "language_info": {
      "name": "python"
    }
  },
  "cells": [
    {
      "cell_type": "markdown",
      "metadata": {
        "id": "view-in-github",
        "colab_type": "text"
      },
      "source": [
        "<a href=\"https://colab.research.google.com/github/Smartprem/Beginners_Python_Projects/blob/main/Quadratic_equation.ipynb\" target=\"_parent\"><img src=\"https://colab.research.google.com/assets/colab-badge.svg\" alt=\"Open In Colab\"/></a>"
      ]
    },
    {
      "cell_type": "code",
      "source": [
        "import cmath "
      ],
      "metadata": {
        "id": "m5wO0ZQkI-6b"
      },
      "execution_count": 1,
      "outputs": []
    },
    {
      "cell_type": "code",
      "source": [
        "#input from user \n",
        "a = float(input('Enter a: '))  \n",
        "b = float(input('Enter b: '))  \n",
        "c = float(input('Enter c: ')) "
      ],
      "metadata": {
        "colab": {
          "base_uri": "https://localhost:8080/"
        },
        "id": "V7ZLqjo6Jcik",
        "outputId": "643eb5e7-e0b5-4164-9526-bfb4f045fcad"
      },
      "execution_count": 8,
      "outputs": [
        {
          "name": "stdout",
          "output_type": "stream",
          "text": [
            "Enter a: 1\n",
            "Enter b: 1\n",
            "Enter c: 2\n"
          ]
        }
      ]
    },
    {
      "cell_type": "code",
      "source": [
        "# calculate the discriminant  \n",
        "d = (b**2) - (4*a*c)  "
      ],
      "metadata": {
        "id": "Sdq-IB9kJcRx"
      },
      "execution_count": 9,
      "outputs": []
    },
    {
      "cell_type": "code",
      "source": [
        "# find two solutions  \n",
        "sol1 = (-b-cmath.sqrt(d))/(2*a)  \n",
        "sol2 = (-b+cmath.sqrt(d))/(2*a)  \n",
        "print('The solution are {0} and {1}'.format(sol1,sol2))"
      ],
      "metadata": {
        "colab": {
          "base_uri": "https://localhost:8080/"
        },
        "id": "ywjAdZp-JbdR",
        "outputId": "042a3e3a-5352-4953-b398-fc67c070bdb0"
      },
      "execution_count": 10,
      "outputs": [
        {
          "output_type": "stream",
          "name": "stdout",
          "text": [
            "The solution are (-0.5-1.3228756555322954j) and (-0.5+1.3228756555322954j)\n"
          ]
        }
      ]
    },
    {
      "cell_type": "markdown",
      "source": [
        "#Method 2\n"
      ],
      "metadata": {
        "id": "wGL4RbAnjbLZ"
      }
    },
    {
      "cell_type": "code",
      "source": [
        "import math\n",
        "  \n",
        "  # function for finding roots  \n",
        "def findRoots(x, y, z):  \n",
        "  \n",
        "    soln = y * y - 4 * x * z  \n",
        "    sqrt_val = math.sqrt(abs(soln))  \n",
        "  \n",
        "  \n",
        "    if soln > 0:  \n",
        "        print(\" real and different roots \")  \n",
        "        print((-y + sqrt_val) / (2 * x))  \n",
        "        print((-y - sqrt_val) / (2 * x))  \n",
        "  \n",
        "    elif soln == 0:  \n",
        "        print(\" real and same roots\")  \n",
        "        print(-y / (2 * x))  \n",
        "  \n",
        "  \n",
        "    else:  \n",
        "        print(\"Complex Roots\")  \n",
        "        print(- y / (2 * x), \" + i\", sqrt_val)  \n",
        "        print(- y / (2 * x), \" - i\", sqrt_val)  \n",
        "  \n",
        "  \n"
      ],
      "metadata": {
        "id": "tWgqEraNI_TS"
      },
      "execution_count": 13,
      "outputs": []
    },
    {
      "cell_type": "code",
      "source": [
        "x = int(input('Enter x:'))  \n",
        "y = int(input('Enter y:'))  \n",
        "z = int(input('Enter z:'))  \n",
        "  \n",
        "# If x is 0, then incorrect equation  \n",
        "if x == 0:  \n",
        "    print(\"Input correct quadratic equation\")  \n",
        "  \n",
        "else:  \n",
        "    findRoots(x, y, z)  "
      ],
      "metadata": {
        "colab": {
          "base_uri": "https://localhost:8080/"
        },
        "id": "f_MwfZAVk1dO",
        "outputId": "b475331d-8aef-485f-fc08-c984b9b727f0"
      },
      "execution_count": 14,
      "outputs": [
        {
          "output_type": "stream",
          "name": "stdout",
          "text": [
            "Enter x:6\n",
            "Enter y:8\n",
            "Enter z:9\n",
            "Complex Roots\n",
            "-0.6666666666666666  + i 12.328828005937952\n",
            "-0.6666666666666666  - i 12.328828005937952\n"
          ]
        }
      ]
    },
    {
      "cell_type": "code",
      "source": [],
      "metadata": {
        "id": "iTKqRXWclbUq"
      },
      "execution_count": null,
      "outputs": []
    }
  ]
}